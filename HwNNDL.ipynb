{
 "cells": [
  {
   "cell_type": "markdown",
   "id": "330fa3ca",
   "metadata": {},
   "source": [
    "# Question_9_a"
   ]
  },
  {
   "cell_type": "markdown",
   "id": "fde272c6",
   "metadata": {},
   "source": [
    "### کتابخانه های مورد نظر را ایمپورت میکنیم "
   ]
  },
  {
   "cell_type": "code",
   "execution_count": 3,
   "id": "cf29cf4e",
   "metadata": {},
   "outputs": [],
   "source": [
    "import numpy as np\n",
    "import pandas as pd\n",
    "import matplotlib.pyplot as plt\n",
    "import tensorflow as tf\n",
    "from tensorflow import keras\n",
    "from tensorflow.keras import layers"
   ]
  },
  {
   "cell_type": "markdown",
   "id": "018b4b8f",
   "metadata": {},
   "source": [
    "### لیبل های دیتا تست و ترین را از یکدیگر جدا کرده و با استفاده از تقسیم کردن بر ماکسیمم هر یک از اعضای دیتا را بین 0 و 1 محدود کرده و از این طریق نرمال سازی را انجام میدهیم"
   ]
  },
  {
   "cell_type": "code",
   "execution_count": 4,
   "id": "b89e92a8",
   "metadata": {},
   "outputs": [],
   "source": [
    "train = pd.read_csv('mnist_train.csv')\n",
    "test = pd.read_csv('mnist_test.csv')\n",
    "train = train.values\n",
    "test = test.values\n",
    "xTrain = train[:,1:]\n",
    "yTrain = train[:,1]\n",
    "xTest = test[:,1:]\n",
    "yTest = test[:,1]\n",
    "xTrain = xTrain / 255\n",
    "xTest = xTest / 255"
   ]
  },
  {
   "cell_type": "markdown",
   "id": "fb432e20",
   "metadata": {},
   "source": [
    "### we want to implement multi layer perseptron then we should use from Sequential class"
   ]
  },
  {
   "cell_type": "markdown",
   "id": "f4372c25",
   "metadata": {},
   "source": [
    "### با توجه به اینکه سایز هر تصویر 28 * 28 است در هنگام ورود به شبکه عصبی فلت میشود پس لایه ورودی ما باید دارای 28*28 نورون برای ورودی باشد"
   ]
  },
  {
   "cell_type": "markdown",
   "id": "8d38e47b",
   "metadata": {},
   "source": [
    "### شبکه دارای 4 لایه که 2 لایه مخفی و یک لایه ورودی و یک لایه خروجی است تشکیل شده است . 10 نورون برای هیدن لایر اول . 10 نورون برای هیدن لایر دوم . و 10 نورون به علت وجود 10 کلاس در لایه آخر قرار داده شده است "
   ]
  },
  {
   "cell_type": "markdown",
   "id": "cb467088",
   "metadata": {},
   "source": [
    "### used from Relu function as Activation function"
   ]
  },
  {
   "cell_type": "code",
   "execution_count": 5,
   "id": "6532711f",
   "metadata": {},
   "outputs": [
    {
     "name": "stdout",
     "output_type": "stream",
     "text": [
      "WARNING:tensorflow:From C:\\Users\\Ali\\anaconda3\\Lib\\site-packages\\keras\\src\\backend.py:1398: The name tf.executing_eagerly_outside_functions is deprecated. Please use tf.compat.v1.executing_eagerly_outside_functions instead.\n",
      "\n"
     ]
    }
   ],
   "source": [
    "model_mlp = keras.Sequential(\n",
    "    [\n",
    "        keras.Input(28*28),\n",
    "        layers.Dense(10, activation=\"relu\"),\n",
    "        layers.Dense(10, activation=\"relu\"),\n",
    "        layers.Dense(10),\n",
    "    ]\n",
    ")"
   ]
  },
  {
   "cell_type": "markdown",
   "id": "204af66d",
   "metadata": {},
   "source": [
    "### loss function = Cross entropy\n",
    "### learning rate = 0.01\n",
    "### optimizer = Adam"
   ]
  },
  {
   "cell_type": "code",
   "execution_count": 6,
   "id": "fd32e942",
   "metadata": {},
   "outputs": [
    {
     "name": "stderr",
     "output_type": "stream",
     "text": [
      "WARNING:absl:`lr` is deprecated in Keras optimizer, please use `learning_rate` or use the legacy optimizer, e.g.,tf.keras.optimizers.legacy.Adam.\n"
     ]
    }
   ],
   "source": [
    "model_mlp.compile(\n",
    "    loss=keras.losses.SparseCategoricalCrossentropy(from_logits=False),\n",
    "    optimizer=keras.optimizers.Adam(lr=0.01),\n",
    "    metrics=[\"accuracy\"],\n",
    ")"
   ]
  },
  {
   "cell_type": "markdown",
   "id": "49fad654",
   "metadata": {},
   "source": [
    "### مدل ساخته شده را روی دیتا فیت میکنیم \n",
    "### batch size = 32 \n",
    "### Epochs = 5 "
   ]
  },
  {
   "cell_type": "code",
   "execution_count": 7,
   "id": "0d437429",
   "metadata": {},
   "outputs": [
    {
     "name": "stdout",
     "output_type": "stream",
     "text": [
      "Epoch 1/5\n",
      "WARNING:tensorflow:From C:\\Users\\Ali\\anaconda3\\Lib\\site-packages\\keras\\src\\utils\\tf_utils.py:492: The name tf.ragged.RaggedTensorValue is deprecated. Please use tf.compat.v1.ragged.RaggedTensorValue instead.\n",
      "\n"
     ]
    },
    {
     "name": "stderr",
     "output_type": "stream",
     "text": [
      "WARNING:tensorflow:From C:\\Users\\Ali\\anaconda3\\Lib\\site-packages\\keras\\src\\utils\\tf_utils.py:492: The name tf.ragged.RaggedTensorValue is deprecated. Please use tf.compat.v1.ragged.RaggedTensorValue instead.\n",
      "\n"
     ]
    },
    {
     "name": "stdout",
     "output_type": "stream",
     "text": [
      "WARNING:tensorflow:From C:\\Users\\Ali\\anaconda3\\Lib\\site-packages\\keras\\src\\engine\\base_layer_utils.py:384: The name tf.executing_eagerly_outside_functions is deprecated. Please use tf.compat.v1.executing_eagerly_outside_functions instead.\n",
      "\n"
     ]
    },
    {
     "name": "stderr",
     "output_type": "stream",
     "text": [
      "WARNING:tensorflow:From C:\\Users\\Ali\\anaconda3\\Lib\\site-packages\\keras\\src\\engine\\base_layer_utils.py:384: The name tf.executing_eagerly_outside_functions is deprecated. Please use tf.compat.v1.executing_eagerly_outside_functions instead.\n",
      "\n"
     ]
    },
    {
     "name": "stdout",
     "output_type": "stream",
     "text": [
      "1875/1875 [==============================] - 4s 2ms/step - loss: 0.0151 - accuracy: 0.9985\n",
      "Epoch 2/5\n",
      "1875/1875 [==============================] - 3s 2ms/step - loss: 2.0510e-06 - accuracy: 1.0000\n",
      "Epoch 3/5\n",
      "1875/1875 [==============================] - 3s 2ms/step - loss: 1.6667e-06 - accuracy: 1.0000\n",
      "Epoch 4/5\n",
      "1875/1875 [==============================] - 3s 1ms/step - loss: 1.3476e-06 - accuracy: 1.0000\n",
      "Epoch 5/5\n",
      "1875/1875 [==============================] - 3s 1ms/step - loss: 1.5605e-06 - accuracy: 1.0000\n",
      "313/313 [==============================] - 1s 1ms/step - loss: 1.3875e-06 - accuracy: 1.0000\n"
     ]
    },
    {
     "data": {
      "text/plain": [
       "[1.387496240567998e-06, 1.0]"
      ]
     },
     "execution_count": 7,
     "metadata": {},
     "output_type": "execute_result"
    }
   ],
   "source": [
    "model_mlp.fit(xTrain, yTrain, batch_size=32, epochs=5, verbose=1)\n",
    "model_mlp.evaluate(xTest, yTest, batch_size=32, verbose=1)"
   ]
  },
  {
   "cell_type": "markdown",
   "id": "5eb923b0",
   "metadata": {},
   "source": [
    "### Accuracy = 1 \n",
    "### Cost = 8*e-6"
   ]
  },
  {
   "cell_type": "markdown",
   "id": "1323f1f4",
   "metadata": {},
   "source": [
    "# Question_9_c"
   ]
  },
  {
   "cell_type": "markdown",
   "id": "1d0a148f",
   "metadata": {},
   "source": [
    "### چون از فیلتر های کانولوشن میخواهیم استفاده کنیم دیتای فلت شده را دوباره به همان فرم تصویر برمیگردانیم "
   ]
  },
  {
   "cell_type": "code",
   "execution_count": 29,
   "id": "d553c3ca",
   "metadata": {},
   "outputs": [],
   "source": [
    "xTrain1 = xTrain.reshape(xTrain.shape[0],28,28)\n",
    "xTest1 = xTest.reshape(xTest.shape[0],28,28)"
   ]
  },
  {
   "cell_type": "markdown",
   "id": "5720704d",
   "metadata": {},
   "source": [
    "### از 3 لایه کانولوشن که هرکدام دارای تعداد 20 و 40 و 80 فیلتر هستند استفاده میکنیم و هم چنین بعد فیلتر 3*3 است "
   ]
  },
  {
   "cell_type": "markdown",
   "id": "1c1ff797",
   "metadata": {},
   "source": [
    "### بعد از هر لایه کانولوشن یک لایه مکس پولینگ قرار میدهیم و بعد از اتمام لایه های کانولوشن و مکس پولینگ دیتا را فلت میکنیم و به یک هیدن لایر با 64 نورون میدهیم و در انتها هم چون 10 کلاس متفاوت داریم یک لایه خروجی با 10 نورون قرار میدهیم "
   ]
  },
  {
   "cell_type": "code",
   "execution_count": 8,
   "id": "3ff69882",
   "metadata": {},
   "outputs": [
    {
     "name": "stdout",
     "output_type": "stream",
     "text": [
      "WARNING:tensorflow:From C:\\Users\\Ali\\anaconda3\\Lib\\site-packages\\keras\\src\\layers\\pooling\\max_pooling2d.py:161: The name tf.nn.max_pool is deprecated. Please use tf.nn.max_pool2d instead.\n",
      "\n"
     ]
    },
    {
     "name": "stderr",
     "output_type": "stream",
     "text": [
      "WARNING:tensorflow:From C:\\Users\\Ali\\anaconda3\\Lib\\site-packages\\keras\\src\\layers\\pooling\\max_pooling2d.py:161: The name tf.nn.max_pool is deprecated. Please use tf.nn.max_pool2d instead.\n",
      "\n",
      "WARNING:absl:`lr` is deprecated in Keras optimizer, please use `learning_rate` or use the legacy optimizer, e.g.,tf.keras.optimizers.legacy.Adam.\n"
     ]
    }
   ],
   "source": [
    "model_cnn = keras.Sequential(\n",
    "    [\n",
    "        keras.Input(shape=(28, 28, 1)),\n",
    "        layers.Conv2D(20 , 3 , padding='valid' , activation='relu'),\n",
    "        layers.MaxPooling2D(),\n",
    "        layers.Conv2D(40 , 3 , padding='valid' , activation='relu'),\n",
    "        layers.MaxPooling2D(),        \n",
    "        layers.Conv2D(80 , 3 , padding='valid' , activation='relu'),\n",
    "        layers.Flatten(),\n",
    "        layers.Dense(64,activation='relu'),\n",
    "        layers.Dense(10),\n",
    "    ]\n",
    ")"
   ]
  },
  {
   "cell_type": "markdown",
   "id": "4c437dc1",
   "metadata": {},
   "source": [
    "### loss function = cross entropy \n",
    "### optimizer = Adam \n",
    "### learning rate = 0.0005"
   ]
  },
  {
   "cell_type": "code",
   "execution_count": 30,
   "id": "3cb6a3d7",
   "metadata": {},
   "outputs": [
    {
     "name": "stderr",
     "output_type": "stream",
     "text": [
      "WARNING:absl:`lr` is deprecated in Keras optimizer, please use `learning_rate` or use the legacy optimizer, e.g.,tf.keras.optimizers.legacy.Adam.\n"
     ]
    }
   ],
   "source": [
    "model_cnn.compile(\n",
    "    loss=keras.losses.SparseCategoricalCrossentropy(from_logits=True),\n",
    "    optimizer=keras.optimizers.Adam(lr=0.0005),\n",
    "    metrics=[\"accuracy\"],\n",
    ")"
   ]
  },
  {
   "cell_type": "code",
   "execution_count": 32,
   "id": "1ece84f3",
   "metadata": {},
   "outputs": [
    {
     "name": "stdout",
     "output_type": "stream",
     "text": [
      "Epoch 1/10\n",
      "938/938 [==============================] - 7s 8ms/step - loss: 0.0000e+00 - accuracy: 1.0000\n",
      "Epoch 2/10\n",
      "938/938 [==============================] - 7s 8ms/step - loss: 0.0000e+00 - accuracy: 1.0000\n",
      "Epoch 3/10\n",
      "938/938 [==============================] - 7s 8ms/step - loss: 0.0000e+00 - accuracy: 1.0000\n",
      "Epoch 4/10\n",
      "938/938 [==============================] - 8s 8ms/step - loss: 0.0000e+00 - accuracy: 1.0000\n",
      "Epoch 5/10\n",
      "938/938 [==============================] - 9s 9ms/step - loss: 0.0000e+00 - accuracy: 1.0000\n",
      "Epoch 6/10\n",
      "938/938 [==============================] - 9s 9ms/step - loss: 0.0000e+00 - accuracy: 1.0000\n",
      "Epoch 7/10\n",
      "938/938 [==============================] - 8s 8ms/step - loss: 0.0000e+00 - accuracy: 1.0000\n",
      "Epoch 8/10\n",
      "938/938 [==============================] - 8s 8ms/step - loss: 0.0000e+00 - accuracy: 1.0000\n",
      "Epoch 9/10\n",
      "938/938 [==============================] - 8s 8ms/step - loss: 0.0000e+00 - accuracy: 1.0000\n",
      "Epoch 10/10\n",
      "938/938 [==============================] - 7s 8ms/step - loss: 0.0000e+00 - accuracy: 1.0000\n",
      "157/157 [==============================] - 1s 3ms/step - loss: 0.0000e+00 - accuracy: 1.0000\n"
     ]
    },
    {
     "data": {
      "text/plain": [
       "[0.0, 1.0]"
      ]
     },
     "execution_count": 32,
     "metadata": {},
     "output_type": "execute_result"
    }
   ],
   "source": [
    "model_cnn.fit(xTrain1, yTrain, batch_size=64, epochs=10, verbose=1)\n",
    "model_cnn.evaluate(xTest1, yTest, batch_size=64, verbose=1)"
   ]
  },
  {
   "cell_type": "markdown",
   "id": "de6d10f7",
   "metadata": {},
   "source": [
    "### Accuracy = 1 \n",
    "### Cost = 0"
   ]
  }
 ],
 "metadata": {
  "kernelspec": {
   "display_name": "Python 3 (ipykernel)",
   "language": "python",
   "name": "python3"
  },
  "language_info": {
   "codemirror_mode": {
    "name": "ipython",
    "version": 3
   },
   "file_extension": ".py",
   "mimetype": "text/x-python",
   "name": "python",
   "nbconvert_exporter": "python",
   "pygments_lexer": "ipython3",
   "version": "3.11.5"
  }
 },
 "nbformat": 4,
 "nbformat_minor": 5
}
